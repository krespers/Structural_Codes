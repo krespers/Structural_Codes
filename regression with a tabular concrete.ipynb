{
 "cells": [
  {
   "cell_type": "markdown",
   "metadata": {},
   "source": [
    "# 1. Import"
   ]
  },
  {
   "cell_type": "code",
   "execution_count": 2,
   "metadata": {},
   "outputs": [],
   "source": [
    "import pandas as pd\n",
    "from sklearn.model_selection import train_test_split, GridSearchCV\n",
    "from sklearn.ensemble import GradientBoostingRegressor\n",
    "from sklearn.metrics import mean_squared_error\n",
    "from sklearn.preprocessing import StandardScaler\n",
    "from math import sqrt"
   ]
  },
  {
   "cell_type": "code",
   "execution_count": 4,
   "metadata": {},
   "outputs": [],
   "source": [
    "train = pd.read_csv('train.csv', index_col='id')\n",
    "test = pd.read_csv('test.csv', index_col='id')"
   ]
  },
  {
   "cell_type": "markdown",
   "metadata": {},
   "source": [
    "# 2. dataset checking"
   ]
  },
  {
   "cell_type": "code",
   "execution_count": null,
   "metadata": {},
   "outputs": [
    {
     "name": "stdout",
     "output_type": "stream",
     "text": [
      "       CementComponent  BlastFurnaceSlag  FlyAshComponent  WaterComponent  \\\n",
      "count      5407.000000       5407.000000      5407.000000     5407.000000   \n",
      "mean        299.168189         58.610579        31.872795      185.076235   \n",
      "std         105.537682         83.417801        54.605003       18.517583   \n",
      "min         102.000000          0.000000         0.000000      121.800000   \n",
      "25%         213.700000          0.000000         0.000000      175.100000   \n",
      "50%         297.200000          0.000000         0.000000      187.400000   \n",
      "75%         375.000000        122.600000        79.000000      192.000000   \n",
      "max         540.000000        359.400000       200.100000      247.000000   \n",
      "\n",
      "       SuperplasticizerComponent  CoarseAggregateComponent  \\\n",
      "count                5407.000000               5407.000000   \n",
      "mean                    4.108441                992.000718   \n",
      "std                     5.692296                 77.148010   \n",
      "min                     0.000000                801.000000   \n",
      "25%                     0.000000                938.200000   \n",
      "50%                     0.000000                978.000000   \n",
      "75%                     8.050000               1047.000000   \n",
      "max                    32.200000               1145.000000   \n",
      "\n",
      "       FineAggregateComponent    AgeInDays     Strength  \n",
      "count             5407.000000  5407.000000  5407.000000  \n",
      "mean               771.219974    51.751618    35.452071  \n",
      "std                 78.725253    70.006975    16.401896  \n",
      "min                594.000000     1.000000     2.330000  \n",
      "25%                734.300000     7.000000    23.640000  \n",
      "50%                781.200000    28.000000    33.950000  \n",
      "75%                821.000000    56.000000    45.850000  \n",
      "max                992.600000   365.000000    82.600000  \n"
     ]
    },
    {
     "data": {
      "text/html": [
       "<div>\n",
       "<style scoped>\n",
       "    .dataframe tbody tr th:only-of-type {\n",
       "        vertical-align: middle;\n",
       "    }\n",
       "\n",
       "    .dataframe tbody tr th {\n",
       "        vertical-align: top;\n",
       "    }\n",
       "\n",
       "    .dataframe thead th {\n",
       "        text-align: right;\n",
       "    }\n",
       "</style>\n",
       "<table border=\"1\" class=\"dataframe\">\n",
       "  <thead>\n",
       "    <tr style=\"text-align: right;\">\n",
       "      <th></th>\n",
       "      <th>CementComponent</th>\n",
       "      <th>BlastFurnaceSlag</th>\n",
       "      <th>FlyAshComponent</th>\n",
       "      <th>WaterComponent</th>\n",
       "      <th>SuperplasticizerComponent</th>\n",
       "      <th>CoarseAggregateComponent</th>\n",
       "      <th>FineAggregateComponent</th>\n",
       "      <th>AgeInDays</th>\n",
       "      <th>Strength</th>\n",
       "    </tr>\n",
       "    <tr>\n",
       "      <th>id</th>\n",
       "      <th></th>\n",
       "      <th></th>\n",
       "      <th></th>\n",
       "      <th></th>\n",
       "      <th></th>\n",
       "      <th></th>\n",
       "      <th></th>\n",
       "      <th></th>\n",
       "      <th></th>\n",
       "    </tr>\n",
       "  </thead>\n",
       "  <tbody>\n",
       "    <tr>\n",
       "      <th>5404</th>\n",
       "      <td>295.8</td>\n",
       "      <td>0.0</td>\n",
       "      <td>0.0</td>\n",
       "      <td>185.7</td>\n",
       "      <td>0.0</td>\n",
       "      <td>1076.2</td>\n",
       "      <td>759.3</td>\n",
       "      <td>28</td>\n",
       "      <td>39.30</td>\n",
       "    </tr>\n",
       "    <tr>\n",
       "      <th>5405</th>\n",
       "      <td>376.0</td>\n",
       "      <td>93.4</td>\n",
       "      <td>0.0</td>\n",
       "      <td>162.6</td>\n",
       "      <td>11.5</td>\n",
       "      <td>955.8</td>\n",
       "      <td>662.9</td>\n",
       "      <td>28</td>\n",
       "      <td>39.61</td>\n",
       "    </tr>\n",
       "    <tr>\n",
       "      <th>5406</th>\n",
       "      <td>190.7</td>\n",
       "      <td>0.0</td>\n",
       "      <td>125.2</td>\n",
       "      <td>166.6</td>\n",
       "      <td>7.9</td>\n",
       "      <td>1079.0</td>\n",
       "      <td>770.1</td>\n",
       "      <td>56</td>\n",
       "      <td>63.14</td>\n",
       "    </tr>\n",
       "  </tbody>\n",
       "</table>\n",
       "</div>"
      ],
      "text/plain": [
       "      CementComponent  BlastFurnaceSlag  FlyAshComponent  WaterComponent  \\\n",
       "id                                                                         \n",
       "5404            295.8               0.0              0.0           185.7   \n",
       "5405            376.0              93.4              0.0           162.6   \n",
       "5406            190.7               0.0            125.2           166.6   \n",
       "\n",
       "      SuperplasticizerComponent  CoarseAggregateComponent  \\\n",
       "id                                                          \n",
       "5404                        0.0                    1076.2   \n",
       "5405                       11.5                     955.8   \n",
       "5406                        7.9                    1079.0   \n",
       "\n",
       "      FineAggregateComponent  AgeInDays  Strength  \n",
       "id                                                 \n",
       "5404                   759.3         28     39.30  \n",
       "5405                   662.9         28     39.61  \n",
       "5406                   770.1         56     63.14  "
      ]
     },
     "execution_count": 9,
     "metadata": {},
     "output_type": "execute_result"
    }
   ],
   "source": [
    "print(train.describe(include='all'))\n",
    "train.tail(3)\n",
    "# target : strength을 해야 하는 것임.\n"
   ]
  },
  {
   "cell_type": "code",
   "execution_count": 10,
   "metadata": {},
   "outputs": [
    {
     "name": "stdout",
     "output_type": "stream",
     "text": [
      "There are no null values in train and test.\n",
      "\n"
     ]
    }
   ],
   "source": [
    "# is NA?\n",
    "temp1 = train.isna().sum().sum()\n",
    "temp2 = test.isna().sum().sum()\n",
    "if temp1 == 0 and temp2 == 0:\n",
    "    print('There are no null values in train and test.')\n",
    "else:\n",
    "    print(f'There are {temp1} null values in train')\n",
    "    print(f'There are {temp2} null values in train')\n",
    "print()\n"
   ]
  },
  {
   "cell_type": "markdown",
   "metadata": {},
   "source": [
    "# 3. ensenble 모델을 위한 feature 변형"
   ]
  },
  {
   "cell_type": "markdown",
   "metadata": {},
   "source": []
  }
 ],
 "metadata": {
  "kernelspec": {
   "display_name": "sklearn",
   "language": "python",
   "name": "python3"
  },
  "language_info": {
   "codemirror_mode": {
    "name": "ipython",
    "version": 3
   },
   "file_extension": ".py",
   "mimetype": "text/x-python",
   "name": "python",
   "nbconvert_exporter": "python",
   "pygments_lexer": "ipython3",
   "version": "3.9.19"
  }
 },
 "nbformat": 4,
 "nbformat_minor": 2
}
