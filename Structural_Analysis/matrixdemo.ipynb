{
 "cells": [
  {
   "cell_type": "code",
   "execution_count": 3,
   "metadata": {},
   "outputs": [],
   "source": [
    "# 매트릭스 구조해석 트러스 계산기"
   ]
  },
  {
   "cell_type": "code",
   "execution_count": 117,
   "metadata": {},
   "outputs": [],
   "source": [
    "import numpy as np\n",
    "import matplotlib.pyplot as plt\n",
    "from matplotlib.offsetbox import AnnotationBbox, OffsetImage\n"
   ]
  },
  {
   "cell_type": "code",
   "execution_count": 118,
   "metadata": {},
   "outputs": [],
   "source": [
    "# Joint 입력\n",
    "# Joint 갯수 입력 후 각 Joint의 x, y 좌표 입력\n",
    "\n",
    "def input_joint():\n",
    "    print(\"Joint 갯수를 입력하세요.\")\n",
    "    joint_num = int(input())\n",
    "    joint = np.zeros((joint_num, 2))\n",
    "    for i in range(joint_num):\n",
    "        print(\"Joint\", i + 1, \"의 x 좌표를 입력하세요.\")\n",
    "        joint[i][0] = float(input())\n",
    "        print(\"Joint\", i + 1, \"의 y 좌표를 입력하세요.\")\n",
    "        joint[i][1] = float(input())\n",
    "    return joint\n"
   ]
  },
  {
   "cell_type": "code",
   "execution_count": 119,
   "metadata": {},
   "outputs": [],
   "source": [
    "# support data 입력\n",
    "# support data 입력 후 각 Joint의 x, y 좌표 및 지지형식 입력\n",
    "\n",
    "def input_support():\n",
    "    print(\"Support 갯수를 입력하세요.\")\n",
    "    support_num = int(input())\n",
    "    support = np.zeros((support_num, 3))\n",
    "    for i in range(support_num):\n",
    "        print(\"Support\", i + 1, \"의 Joint 번호를 입력하세요.\")\n",
    "        support[i][0] = int(input())\n",
    "        print(\"Support\", i + 1, \"의 x 방향 구속 여부를 적으세요 (맞으면 1, 아니면 0).\")\n",
    "        support[i][1] = float(input())\n",
    "        print(\"Support\", i + 1, \"의 y 방향 구속 여부를 적으세요 (맞으면 1, 아니면 0).\")\n",
    "        support[i][2] = float(input())\n",
    "    return support\n",
    "\n"
   ]
  },
  {
   "cell_type": "code",
   "execution_count": 120,
   "metadata": {},
   "outputs": [],
   "source": [
    "# material property 데이터들 입력\n",
    "# E 입력\n",
    "def material_property_base():\n",
    "    print(\"사용할 Material의 갯수를 입력하세요.\")\n",
    "    material_num = int(input())\n",
    "    E = np.zeros(material_num)\n",
    "    for i in range(material_num):\n",
    "        print(\"Material\", i + 1, \"의 E 값을 입력하세요. (단위는 Pa)\")\n",
    "        E[i] = float(input())\n",
    "    return E"
   ]
  },
  {
   "cell_type": "code",
   "execution_count": 121,
   "metadata": {},
   "outputs": [],
   "source": [
    "# cross sectional property data\n",
    "def material_property_cross():\n",
    "    print(\"사용할 Material의 갯수를 입력하세요.\")\n",
    "    material_num = int(input())\n",
    "    A = np.zeros(material_num)\n",
    "    for i in range(material_num):\n",
    "        print(\"Material\", i + 1, \"의 A 값을 입력하세요. (단위는 m^2)\")\n",
    "        A[i] = float(input())\n",
    "    return A"
   ]
  },
  {
   "cell_type": "code",
   "execution_count": 122,
   "metadata": {},
   "outputs": [],
   "source": [
    "# member data 입력\n",
    "# member 갯수 입력 후 각 member의 시작 Joint 번호, 끝 Joint 번호, Material\n",
    "def input_member():\n",
    "    print(\"Member 갯수를 입력하세요.\")\n",
    "    member_num = int(input())\n",
    "    member = np.zeros((member_num, 4))\n",
    "    for i in range(member_num):\n",
    "        print(\"Member\", i + 1, \"의 시작 Joint 번호를 입력하세요.\")\n",
    "        member[i][0] = int(input())\n",
    "        print(\"Member\", i + 1, \"의 끝 Joint 번호를 입력하세요.\")\n",
    "        member[i][1] = int(input())\n",
    "        print(\"Member\", i + 1, \"의 Material property 번호를 입력하세요.\")\n",
    "        member[i][2] = int(input())\n",
    "        print(\"Member\", i + 1, \"의 Cross sectional property 번호를 입력하세요.\")\n",
    "        member[i][3] = int(input())\n",
    "    return member"
   ]
  },
  {
   "cell_type": "code",
   "execution_count": 123,
   "metadata": {},
   "outputs": [],
   "source": [
    "# joint load data\n",
    "def input_joint_load():\n",
    "    print(\"Joint Load 갯수를 입력하세요.\")\n",
    "    joint_load_num = int(input())\n",
    "    joint_load = np.zeros((joint_load_num, 3))\n",
    "    for i in range(joint_load_num):\n",
    "        print(\"Joint Load\", i + 1, \"의 Joint 번호를 입력하세요.\")\n",
    "        joint_load[i][0] = int(input())\n",
    "        print(\"Joint Load\", i + 1, \"의 x 방향 Load를 입력하세요.\")\n",
    "        joint_load[i][1] = float(input())\n",
    "        print(\"Joint Load\", i + 1, \"의 y 방향 Load를 입력하세요.\")\n",
    "        joint_load[i][2] = float(input())\n",
    "    return joint_load"
   ]
  },
  {
   "cell_type": "code",
   "execution_count": 124,
   "metadata": {},
   "outputs": [
    {
     "name": "stdout",
     "output_type": "stream",
     "text": [
      "Joint 갯수를 입력하세요.\n",
      "Joint 1 의 x 좌표를 입력하세요.\n",
      "Joint 1 의 y 좌표를 입력하세요.\n",
      "Joint 2 의 x 좌표를 입력하세요.\n",
      "Joint 2 의 y 좌표를 입력하세요.\n",
      "Joint 3 의 x 좌표를 입력하세요.\n",
      "Joint 3 의 y 좌표를 입력하세요.\n"
     ]
    }
   ],
   "source": [
    "joint_data = input_joint()\n",
    "\n"
   ]
  },
  {
   "cell_type": "code",
   "execution_count": 125,
   "metadata": {},
   "outputs": [
    {
     "name": "stdout",
     "output_type": "stream",
     "text": [
      "Support 갯수를 입력하세요.\n",
      "Support 1 의 Joint 번호를 입력하세요.\n",
      "Support 1 의 x 방향 구속 여부를 적으세요 (맞으면 1, 아니면 0).\n",
      "Support 1 의 y 방향 구속 여부를 적으세요 (맞으면 1, 아니면 0).\n",
      "Support 2 의 Joint 번호를 입력하세요.\n",
      "Support 2 의 x 방향 구속 여부를 적으세요 (맞으면 1, 아니면 0).\n",
      "Support 2 의 y 방향 구속 여부를 적으세요 (맞으면 1, 아니면 0).\n"
     ]
    }
   ],
   "source": [
    "support_data = input_support()"
   ]
  },
  {
   "cell_type": "code",
   "execution_count": 126,
   "metadata": {},
   "outputs": [
    {
     "name": "stdout",
     "output_type": "stream",
     "text": [
      "사용할 Material의 갯수를 입력하세요.\n",
      "Material 1 의 E 값을 입력하세요. (단위는 Pa)\n"
     ]
    }
   ],
   "source": [
    "material_property_data = material_property_base()\n"
   ]
  },
  {
   "cell_type": "code",
   "execution_count": 142,
   "metadata": {},
   "outputs": [
    {
     "name": "stdout",
     "output_type": "stream",
     "text": [
      "사용할 Material의 갯수를 입력하세요.\n",
      "Material 1 의 A 값을 입력하세요. (단위는 m^2)\n"
     ]
    }
   ],
   "source": [
    "cross_sectional_data = material_property_cross()"
   ]
  },
  {
   "cell_type": "code",
   "execution_count": 144,
   "metadata": {},
   "outputs": [
    {
     "name": "stdout",
     "output_type": "stream",
     "text": [
      "Member 갯수를 입력하세요.\n",
      "Member 1 의 시작 Joint 번호를 입력하세요.\n",
      "Member 1 의 끝 Joint 번호를 입력하세요.\n",
      "Member 1 의 Material property 번호를 입력하세요.\n",
      "Member 1 의 Cross sectional property 번호를 입력하세요.\n",
      "Member 2 의 시작 Joint 번호를 입력하세요.\n",
      "Member 2 의 끝 Joint 번호를 입력하세요.\n",
      "Member 2 의 Material property 번호를 입력하세요.\n",
      "Member 2 의 Cross sectional property 번호를 입력하세요.\n",
      "Member 3 의 시작 Joint 번호를 입력하세요.\n",
      "Member 3 의 끝 Joint 번호를 입력하세요.\n",
      "Member 3 의 Material property 번호를 입력하세요.\n",
      "Member 3 의 Cross sectional property 번호를 입력하세요.\n"
     ]
    }
   ],
   "source": [
    "member_data = input_member()"
   ]
  },
  {
   "cell_type": "code",
   "execution_count": 129,
   "metadata": {},
   "outputs": [
    {
     "name": "stdout",
     "output_type": "stream",
     "text": [
      "Joint Load 갯수를 입력하세요.\n",
      "Joint Load 1 의 Joint 번호를 입력하세요.\n",
      "Joint Load 1 의 x 방향 Load를 입력하세요.\n",
      "Joint Load 1 의 y 방향 Load를 입력하세요.\n"
     ]
    }
   ],
   "source": [
    "joint_load_data = input_joint_load()"
   ]
  },
  {
   "cell_type": "code",
   "execution_count": 42,
   "metadata": {},
   "outputs": [],
   "source": [
    "# 절점 데이터\n",
    "#joint_data = [[0., 0.], [8., 0.], [16., 0.], [24., 0.], [8., 6.], [16., 6.]]\n",
    "\n",
    "# 멤버 데이터\n",
    "#member_data = [[1., 2., 1., 1.], [2., 3., 1., 1.], [3., 4., 2., 3.], [5., 6., 1., 1.], [2., 5., 1., 1.], [3., 6., 1., 1.], [1., 5., 1., 2.], [2., 6., 1., 2.], [3., 5., 1., 2.], [4., 6., 2., 3.]]\n"
   ]
  },
  {
   "cell_type": "code",
   "execution_count": 145,
   "metadata": {},
   "outputs": [
    {
     "name": "stdout",
     "output_type": "stream",
     "text": [
      "[[ 0.  0.]\n",
      " [ 5.  5.]\n",
      " [10.  0.]]\n",
      "[[1. 1. 1.]\n",
      " [3. 0. 1.]]\n",
      "[1000.]\n",
      "[1.]\n",
      "[[1. 2. 1. 1.]\n",
      " [2. 3. 1. 1.]\n",
      " [3. 1. 1. 1.]]\n",
      "[[  2. 100.   0.]]\n"
     ]
    }
   ],
   "source": [
    "print(joint_data) # ok\n",
    "print(support_data) \n",
    "print(material_property_data)\n",
    "print(cross_sectional_data)\n",
    "print(member_data) # ok\n",
    "print(joint_load_data) # ok"
   ]
  },
  {
   "cell_type": "code",
   "execution_count": 131,
   "metadata": {},
   "outputs": [],
   "source": [
    "# 이미지 로드 함수\n",
    "def get_image(path, zoom=0.03):\n",
    "    return OffsetImage(plt.imread(path), zoom=zoom)\n",
    "\n",
    "# 이미지 경로\n",
    "pinned_support_path = 'pinned support.png'\n",
    "roller_support_path = 'roller support.png'"
   ]
  },
  {
   "cell_type": "code",
   "execution_count": null,
   "metadata": {},
   "outputs": [],
   "source": []
  },
  {
   "cell_type": "code",
   "execution_count": 146,
   "metadata": {},
   "outputs": [
    {
     "data": {
      "image/png": "[encoded data removed]",
      "text/plain": [
       "<Figure size 640x480 with 1 Axes>"
      ]
     },
     "metadata": {},
     "output_type": "display_data"
    }
   ],
   "source": [
    "# joint data와 member data를 갖고 어떻게 시각화를 할 것인지?\n",
    "# 절점을 플롯\n",
    "for joint in joint_data:\n",
    "    plt.scatter(joint[0], joint[1], color='blue')\n",
    "\n",
    "# 멤버를 그림\n",
    "for member in member_data:\n",
    "    start_joint = joint_data[int(member[0]) - 1]\n",
    "    end_joint = joint_data[int(member[1]) - 1]\n",
    "    plt.plot([start_joint[0], end_joint[0]], [start_joint[1], end_joint[1]], color='red')\n",
    "\n",
    "# 절점 하중을 그림\n",
    "for load in joint_load_data:\n",
    "    joint = joint_data[int(load[0]) - 1]\n",
    "    plt.quiver(joint[0], joint[1], load[1], load[2], color='green')\n",
    "    plt.text(joint[0], joint[1], f'({load[1]:.2f}, {load[2]:.2f})', color='black')\n",
    "\n",
    "\n",
    "# 지지조건 그림을 가져와서 추가함.\n",
    "for support in support_data:\n",
    "    joint = joint_data[int(support[0]) - 1]\n",
    "    y_offset = 0.5\n",
    "\n",
    "\n",
    "    if (support[1] == 1 and support[2] == 1): # pinned support\n",
    "        plt.scatter(joint[0], joint[1], color='black', zorder=10)\n",
    "        #plt.gca().add_artist(get_image(roller_support_path))\n",
    "\n",
    "    if (support[1] == 1 and support[2] == 0): # roller support (upper)\n",
    "        plt.scatter(joint[0], joint[1], color='green', zorder=10)\n",
    "        #plt.gca().add_artist(get_image(roller_support_path))\n",
    "\n",
    "    if (support[1] == 0 and support[2] == 1): # roller support (side)\n",
    "        plt.scatter(joint[0], joint[1], color='green', zorder=10)\n",
    "        #plt.gca().add_artist(get_image(roller_support_path))\n",
    "\n",
    "\n",
    "\n",
    "\n",
    "\n",
    "plt.xlabel('X')\n",
    "plt.ylabel('Y')\n",
    "plt.title('visualization of truss structure')\n",
    "plt.show()\n",
    "\n"
   ]
  },
  {
   "cell_type": "code",
   "execution_count": 147,
   "metadata": {},
   "outputs": [
    {
     "name": "stdout",
     "output_type": "stream",
     "text": [
      "3\n"
     ]
    }
   ],
   "source": [
    "# DOF 계산기 (Degree Of freedom)\n",
    "# 2 * number of joints - Number of Reaction Force at Support\n",
    "\n",
    "def DOF_calculator(joint_data, support_data):\n",
    "    DOF = 2 * len(joint_data)\n",
    "    for support in support_data:\n",
    "        DOF -= support[1] + support[2]\n",
    "    return int(DOF)\n",
    "\n",
    "print(DOF_calculator(joint_data, support_data))\n",
    "\n"
   ]
  },
  {
   "cell_type": "code",
   "execution_count": 150,
   "metadata": {},
   "outputs": [
    {
     "name": "stdout",
     "output_type": "stream",
     "text": [
      "0\n"
     ]
    }
   ],
   "source": [
    "# Indeterminancy 계산기\n",
    "# member 갯수 + number of reaction force at support - 2 * joint 갯수\n",
    "\n",
    "def indeterminancy_calculator(member_data, support_data, joint_data):\n",
    "    indeterminancy = len(member_data) + sum(support_data[:, 1:3].flatten()) - 2 * len(joint_data)\n",
    "    return int(indeterminancy)\n",
    "\n",
    "print(indeterminancy_calculator(member_data, support_data, joint_data))"
   ]
  },
  {
   "cell_type": "code",
   "execution_count": 192,
   "metadata": {},
   "outputs": [
    {
     "name": "stdout",
     "output_type": "stream",
     "text": [
      "[ nan  nan 100.   0.   0.  nan]\n"
     ]
    }
   ],
   "source": [
    "# 전역 구조행렬을 제작하는 함수.\n",
    "# 국소적 멤버의 구조행렬 형태\n",
    "# [P]=[K][u]\n",
    "# [p] : joint load data로부터,\n",
    "\n",
    "# [P] 입력하기\n",
    "# 결과 벡터의 크기 계산, joint_data의 행의 크기에 2배를 한 것.\n",
    "max_index = len(joint_data)\n",
    "result_vector_size = max_index * 2  # x, y 방향 고려\n",
    "# 결과 벡터 초기화 (부동소수점 타입으로)\n",
    "Force_Vector = np.full(result_vector_size, np.nan)  # 모든 값을 np.nan으로 초기화\n",
    "# joint_load_data 순회하며 결과 벡터 채우기\n",
    "for load in joint_load_data:\n",
    "    index = int(load[0]) - 1  # Python 인덱스는 0부터 시작\n",
    "    Force_Vector[index * 2] = load[1]  # x 방향 하중 할당 (0 포함)\n",
    "    Force_Vector[index * 2 + 1] = load[2]  # y 방향 하중 할당 (0 포함)\n",
    "# 또한 지지조건 순회하면서 P 벡터 채우기)\n",
    "for support in support_data:\n",
    "    index = int(support[0]) - 1\n",
    "    if support[1] == 0:  # x 방향 구속\n",
    "        Force_Vector[index * 2] = 0\n",
    "    if support[2] == 0:  # y 방향 구속\n",
    "        Force_Vector[index * 2 + 1] = 0\n",
    "\n",
    "# 결과 출력\n",
    "print(Force_Vector)"
   ]
  },
  {
   "cell_type": "code",
   "execution_count": 193,
   "metadata": {},
   "outputs": [
    {
     "name": "stdout",
     "output_type": "stream",
     "text": [
      "[[ 170.71067812   70.71067812  -70.71067812  -70.71067812 -100.\n",
      "     0.        ]\n",
      " [  70.71067812   70.71067812  -70.71067812  -70.71067812    0.\n",
      "     0.        ]\n",
      " [ -70.71067812  -70.71067812  141.42135624    0.          -70.71067812\n",
      "    70.71067812]\n",
      " [ -70.71067812  -70.71067812    0.          141.42135624   70.71067812\n",
      "   -70.71067812]\n",
      " [-100.            0.          -70.71067812   70.71067812  170.71067812\n",
      "   -70.71067812]\n",
      " [   0.            0.           70.71067812  -70.71067812  -70.71067812\n",
      "    70.71067812]]\n"
     ]
    }
   ],
   "source": [
    "# [K] : 각 멤버의 구조행렬을 합친 전역 구조행렬\n",
    "# stiffness matrix의 크기 계산, joint_data의 행의 크기에 2배를 한 것이 둘 다 행렬이 됩니다.\n",
    "max_index = len(joint_data)\n",
    "Stiffness_Matrix = np.zeros((max_index * 2, max_index * 2))  # 0으로 초기화된 행렬 생성\n",
    "\n",
    "# 각 멤버의 방향 벡터를 계산(cos, sin)\n",
    "for member in member_data:\n",
    "    member_start = joint_data[int(member[0]) - 1]\n",
    "    member_end = joint_data[int(member[1]) - 1]\n",
    "    dx = member_end[0] - member_start[0]\n",
    "    dy = member_end[1] - member_start[1]\n",
    "    length = np.sqrt(dx ** 2 + dy ** 2)\n",
    "    cos = dx / length\n",
    "    sin = dy / length\n",
    "\n",
    "    # 각 멤버의 구조행렬 계산\n",
    "    A = cross_sectional_data[int(member[3]) - 1]\n",
    "    E = material_property_data[int(member[2]) - 1]\n",
    "    k = A * E / length\n",
    "    local_stiffness_matrix = np.array([[cos ** 2, cos * sin, -cos ** 2, -cos * sin],\n",
    "                                       [cos * sin, sin ** 2, -cos * sin, -sin ** 2],\n",
    "                                       [-cos ** 2, -cos * sin, cos ** 2, cos * sin],\n",
    "                                       [-cos * sin, -sin ** 2, cos * sin, sin ** 2]]) * k\n",
    "\n",
    "\n",
    "    # 전역 구조행렬에 더하기 (전역 행렬은 112233445566 이런 식으로 2n * 2n 행렬로 되어있음.)\n",
    "    # 즉 member_data의 member_start, member_end 가 있는데,\n",
    "    # member[0]과 member[1]을 정수형으로 변환\n",
    "    member_start_index = int(member[0]) - 1\n",
    "    member_end_index = int(member[1]) - 1\n",
    "\n",
    "    # 변환된 인덱스를 사용하여 Stiffness_Matrix 업데이트\n",
    "    Stiffness_Matrix[2*member_start_index][2*member_start_index] += local_stiffness_matrix[0][0]\n",
    "    Stiffness_Matrix[2*member_start_index+1][2*member_start_index] += local_stiffness_matrix[1][0]\n",
    "    Stiffness_Matrix[2*member_start_index][2*member_start_index+1] += local_stiffness_matrix[0][1]\n",
    "    Stiffness_Matrix[2*member_start_index+1][2*member_start_index+1] += local_stiffness_matrix[1][1]\n",
    "\n",
    "    Stiffness_Matrix[2*member_end_index][2*member_end_index] += local_stiffness_matrix[2][2]\n",
    "    Stiffness_Matrix[2*member_end_index+1][2*member_end_index] += local_stiffness_matrix[3][2]\n",
    "    Stiffness_Matrix[2*member_end_index][2*member_end_index+1] += local_stiffness_matrix[2][3]\n",
    "    Stiffness_Matrix[2*member_end_index+1][2*member_end_index+1] += local_stiffness_matrix[3][3]\n",
    "\n",
    "    Stiffness_Matrix[2*member_start_index][2*member_end_index] += local_stiffness_matrix[0][2]\n",
    "    Stiffness_Matrix[2*member_start_index+1][2*member_end_index] += local_stiffness_matrix[1][2]\n",
    "    Stiffness_Matrix[2*member_start_index][2*member_end_index+1] += local_stiffness_matrix[0][3]\n",
    "    Stiffness_Matrix[2*member_start_index+1][2*member_end_index+1] += local_stiffness_matrix[1][3]\n",
    "\n",
    "    Stiffness_Matrix[2*member_end_index][2*member_start_index] += local_stiffness_matrix[2][0]\n",
    "    Stiffness_Matrix[2*member_end_index+1][2*member_start_index] += local_stiffness_matrix[3][0]\n",
    "    Stiffness_Matrix[2*member_end_index][2*member_start_index+1] += local_stiffness_matrix[2][1]\n",
    "    Stiffness_Matrix[2*member_end_index+1][2*member_start_index+1] += local_stiffness_matrix[3][1]\n",
    "\n",
    "print(Stiffness_Matrix)"
   ]
  },
  {
   "cell_type": "code",
   "execution_count": 194,
   "metadata": {},
   "outputs": [
    {
     "name": "stdout",
     "output_type": "stream",
     "text": [
      "[ 0.  0. nan nan nan  0.]\n"
     ]
    }
   ],
   "source": [
    "# [u] : 각 절점의 변위를 나타내는 벡터\n",
    "#[[1. 1. 1.]\n",
    "# [3. 0. 1.]\n",
    "# [4. 0. 1.]]\n",
    "\n",
    "max_index = len(joint_data)\n",
    "result_vector_size = max_index * 2  # x, y 방향 고려\n",
    "Displacement_Vector = np.full(result_vector_size, np.nan)  # 모든 값을 np.nan으로 초기화\n",
    "# support_data 순회하며 결과 벡터 채우기\n",
    "for support in support_data:\n",
    "    index = int(support[0]) - 1  # Python 인덱스는 0부터 시작\n",
    "    if support[1] == 1:  # x 방향 구속\n",
    "        Displacement_Vector[index * 2] = 0  # x 방향 변위 0으로 할당\n",
    "    if support[2] == 1:  # y 방향 구속\n",
    "        Displacement_Vector[index * 2 + 1] = 0  # y 방향 변위 0으로 할당\n",
    "\n",
    "print(Displacement_Vector)"
   ]
  },
  {
   "cell_type": "code",
   "execution_count": 195,
   "metadata": {},
   "outputs": [
    {
     "name": "stdout",
     "output_type": "stream",
     "text": [
      "[ nan  nan 100.   0.   0.  nan]\n",
      "[[ 170.71067812   70.71067812  -70.71067812  -70.71067812 -100.\n",
      "     0.        ]\n",
      " [  70.71067812   70.71067812  -70.71067812  -70.71067812    0.\n",
      "     0.        ]\n",
      " [ -70.71067812  -70.71067812  141.42135624    0.          -70.71067812\n",
      "    70.71067812]\n",
      " [ -70.71067812  -70.71067812    0.          141.42135624   70.71067812\n",
      "   -70.71067812]\n",
      " [-100.            0.          -70.71067812   70.71067812  170.71067812\n",
      "   -70.71067812]\n",
      " [   0.            0.           70.71067812  -70.71067812  -70.71067812\n",
      "    70.71067812]]\n",
      "[ 0.  0. nan nan nan  0.]\n",
      "[0, 1, 5]\n",
      "[2, 3, 4]\n"
     ]
    }
   ],
   "source": [
    "# 가우스 조르단 방법을 사용하여 P=KU에서 NAN 값을 모두 구하여 P, U 벡터를 구해냄.\n",
    "# NAN 값을 가진 인덱스를 찾아내는 함수\n",
    "\n",
    "# 우선 nan 값을 가진 인덱스를 displacement_vector에서 찾아내고 역행렬을 구하여서 빈 nan 값을 갱신하고\n",
    "# 그 다음에 Force_Vector의 빈칸을 구한다.\n",
    "\n",
    "print(Force_Vector)\n",
    "print(Stiffness_Matrix)\n",
    "print(Displacement_Vector)\n",
    "\n",
    "# Force_Vector 중에서, nan이 아닌 값들을 찾아서 그 인덱스를 추출\n",
    "\n",
    "def find_nan_index(vector):\n",
    "    index = []\n",
    "    for i in range(len(vector)):\n",
    "        if np.isnan(vector[i]):\n",
    "            index.append(i)\n",
    "    return index\n",
    "\n",
    "def find_non_nan_index(vector):\n",
    "    index = []\n",
    "    for i in range(len(vector)):\n",
    "        if not np.isnan(vector[i]):\n",
    "            index.append(i)\n",
    "    return index\n",
    "\n",
    "nan_index_Force_Vector = find_nan_index(Force_Vector)\n",
    "non_nan_index_Force_Vector = find_non_nan_index(Force_Vector)\n",
    "\n",
    "# 그 다음에 Stiffness_Matrix에서 nan 열들을 가지지 않은 것들을 추출해서 역행렬을 구합니다.\n",
    "# 이 역행렬을 이용해서 Displacement_Vector의 nan 값을 구합니다.\n",
    "\n",
    "print(nan_index_Force_Vector)\n",
    "print(non_nan_index_Force_Vector)\n",
    "\n",
    "\n",
    "# 행과 열이 non_nan_index_Force_Vector 인 것을 추출하여 새로운 부분적인 행렬을 만들어냅니다.\n",
    "# 이 부분적인 행렬을 이용해서 역행렬을 구합니다.\n",
    "\n",
    "Stiffness_Matrix_partial = Stiffness_Matrix[np.ix_(non_nan_index_Force_Vector, non_nan_index_Force_Vector)]\n",
    "\n",
    "# 여기서 역행렬을 구합니다.\n",
    "Stiffness_Matrix_partial_inv = np.linalg.inv(Stiffness_Matrix_partial)\n"
   ]
  },
  {
   "cell_type": "code",
   "execution_count": 196,
   "metadata": {},
   "outputs": [
    {
     "name": "stdout",
     "output_type": "stream",
     "text": [
      "[ 0.95710678 -0.25        0.5       ]\n"
     ]
    }
   ],
   "source": [
    "# 행렬곱을 위해서 displacement 벡터와 force 벡터를 갖고옵니다.\n",
    "Displacement_Vector_partial = Displacement_Vector[non_nan_index_Force_Vector]\n",
    "Force_Vector_partial = Force_Vector[non_nan_index_Force_Vector]\n",
    "\n",
    "# 그리고 이 역행렬을 이용해서 Displacement_Vector의 nan 값을 구합니다.\n",
    "Displacement_Vector_partial = np.dot(Stiffness_Matrix_partial_inv, Force_Vector_partial)\n",
    "\n",
    "print(Displacement_Vector_partial)\n"
   ]
  },
  {
   "cell_type": "code",
   "execution_count": 199,
   "metadata": {},
   "outputs": [
    {
     "name": "stdout",
     "output_type": "stream",
     "text": [
      "[ 0.          0.          0.95710678 -0.25        0.5         0.        ]\n",
      "[-100.  -50.  100.    0.    0.   50.]\n"
     ]
    }
   ],
   "source": [
    "# 이제 이 값을 Displacement_Vector에 넣어줍니다.\n",
    "# 이것을 기존 displacement_vector와 합칩니다. nan이 없도록.\n",
    "\n",
    "for i in range(len(Displacement_Vector_partial)):\n",
    "    Displacement_Vector[non_nan_index_Force_Vector[i]] = Displacement_Vector_partial[i]\n",
    "\n",
    "print(Displacement_Vector)\n",
    "\n",
    "# 이제 이 값을 이용해서 Force_Vector의 nan 값을 구합니다.\n",
    "Force_Vector = np.dot(Stiffness_Matrix, Displacement_Vector)\n",
    "print(Force_Vector)\n"
   ]
  },
  {
   "cell_type": "code",
   "execution_count": 200,
   "metadata": {},
   "outputs": [
    {
     "name": "stderr",
     "output_type": "stream",
     "text": [
      "c:\\ProgramData\\anaconda3\\Lib\\site-packages\\matplotlib\\quiver.py:645: RuntimeWarning: divide by zero encountered in scalar divide\n",
      "  length = a * (widthu_per_lenu / (self.scale * self.width))\n",
      "c:\\ProgramData\\anaconda3\\Lib\\site-packages\\matplotlib\\quiver.py:645: RuntimeWarning: invalid value encountered in multiply\n",
      "  length = a * (widthu_per_lenu / (self.scale * self.width))\n"
     ]
    },
    {
     "data": {
      "image/png": "[encoded data removed]",
      "text/plain": [
       "<Figure size 640x480 with 1 Axes>"
      ]
     },
     "metadata": {},
     "output_type": "display_data"
    }
   ],
   "source": [
    "# 시각화\n",
    "# 절점을 플롯\n",
    "for joint in joint_data:\n",
    "    plt.scatter(joint[0], joint[1], color='blue')\n",
    "\n",
    "# 멤버를 그림\n",
    "for member in member_data:\n",
    "    start_joint = joint_data[int(member[0]) - 1]\n",
    "    end_joint = joint_data[int(member[1]) - 1]\n",
    "    plt.plot([start_joint[0], end_joint[0]], [start_joint[1], end_joint[1]], color='red')\n",
    "\n",
    "# 절점 하중을 그림\n",
    "for load in joint_load_data:\n",
    "    joint = joint_data[int(load[0]) - 1]\n",
    "    plt.quiver(joint[0], joint[1], load[1], load[2], color='green')\n",
    "    plt.text(joint[0], joint[1], f'({load[1]:.2f}, {load[2]:.2f})', color='black')\n",
    "\n",
    "# 변위를 그림\n",
    "for i in range(len(joint_data)):\n",
    "    plt.quiver(joint_data[i][0], joint_data[i][1], Displacement_Vector[i * 2], Displacement_Vector[i * 2 + 1], color='blue')\n",
    "    plt.text(joint_data[i][0], joint_data[i][1], f'({Displacement_Vector[i * 2]:.2f}, {Displacement_Vector[i * 2 + 1]:.2f})', color='black')\n",
    "\n",
    "# 지지조건 그림을 가져와서 추가함.\n",
    "for support in support_data:\n",
    "    joint = joint_data[int(support[0]) - 1]\n",
    "    y_offset = 0.5\n",
    "\n",
    "    if (support[1] == 1 and support[2] == 1): # pinned support\n",
    "        plt.scatter(joint[0], joint[1], color='black', zorder=10)\n",
    "        #plt.gca().add_artist(get_image(roller_support_path))\n",
    "\n",
    "    if (support[1] == 1 and support[2] == 0): # roller support (upper)\n",
    "        plt.scatter(joint[0], joint[1], color='green', zorder=10)\n",
    "        #plt.gca().add_artist(get_image(roller_support_path))\n",
    "\n",
    "    if (support[1] == 0 and support[2] == 1): # roller support (side)\n",
    "        plt.scatter(joint[0], joint[1], color='green', zorder=10)\n",
    "        #plt.gca().add_artist(get_image(roller_support_path))\n",
    "\n",
    "plt.xlabel('X')\n",
    "plt.ylabel('Y')\n",
    "plt.title('visualization of truss structure')\n",
    "plt.show()\n"
   ]
  },
  {
   "cell_type": "code",
   "execution_count": null,
   "metadata": {},
   "outputs": [],
   "source": []
  }
 ],
 "metadata": {
  "kernelspec": {
   "display_name": "Python 3",
   "language": "python",
   "name": "python3"
  },
  "language_info": {
   "codemirror_mode": {
    "name": "ipython",
    "version": 3
   },
   "file_extension": ".py",
   "mimetype": "text/x-python",
   "name": "python",
   "nbconvert_exporter": "python",
   "pygments_lexer": "ipython3",
   "version": "3.11.7"
  }
 },
 "nbformat": 4,
 "nbformat_minor": 2
}
